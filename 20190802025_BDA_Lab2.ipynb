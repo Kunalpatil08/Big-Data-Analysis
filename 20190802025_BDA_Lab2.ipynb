{
 "cells": [
  {
   "cell_type": "markdown",
   "id": "a805ee87",
   "metadata": {},
   "source": [
    "# BDA_LAB2\n",
    "\n",
    "## Name : Kunal Sanjay Patil\n",
    "### PRN : 20190802025"
   ]
  },
  {
   "cell_type": "markdown",
   "id": "c8fb676d",
   "metadata": {},
   "source": [
    "## QUE1"
   ]
  },
  {
   "cell_type": "code",
   "execution_count": 1,
   "id": "6afae891",
   "metadata": {},
   "outputs": [],
   "source": [
    "sys_bp=[183, 152, 178, 157, 194, 163, 144, 114, 178, 152, 118, 158, 172, 138]"
   ]
  },
  {
   "cell_type": "code",
   "execution_count": 2,
   "id": "febfe065",
   "metadata": {},
   "outputs": [],
   "source": [
    "mu=165"
   ]
  },
  {
   "cell_type": "code",
   "execution_count": 3,
   "id": "ebf3addc",
   "metadata": {},
   "outputs": [],
   "source": [
    "from scipy import stats"
   ]
  },
  {
   "cell_type": "code",
   "execution_count": 4,
   "id": "c0291209",
   "metadata": {},
   "outputs": [],
   "source": [
    "t_value,p_value=stats.ttest_1samp(sys_bp,mu)"
   ]
  },
  {
   "cell_type": "code",
   "execution_count": 5,
   "id": "29b331b2",
   "metadata": {},
   "outputs": [],
   "source": [
    "one_tailed_p_value=float(\"{:.6f}\".format(p_value/2)) # Since alternative hypothesis is one tailed, We need to divide the p value by 2."
   ]
  },
  {
   "cell_type": "code",
   "execution_count": 6,
   "id": "2888e3c8",
   "metadata": {},
   "outputs": [
    {
     "name": "stdout",
     "output_type": "stream",
     "text": [
      "Test statistic is -1.243183\n"
     ]
    }
   ],
   "source": [
    "print('Test statistic is %f'%float(\"{:.6f}\".format(t_value)))"
   ]
  },
  {
   "cell_type": "code",
   "execution_count": 7,
   "id": "1a37ace5",
   "metadata": {},
   "outputs": [
    {
     "name": "stdout",
     "output_type": "stream",
     "text": [
      "p-value for one tailed test is 0.117877\n"
     ]
    }
   ],
   "source": [
    "print('p-value for one tailed test is %f'%one_tailed_p_value)"
   ]
  },
  {
   "cell_type": "code",
   "execution_count": 8,
   "id": "cc1c0ae5",
   "metadata": {},
   "outputs": [],
   "source": [
    "alpha = 0.05"
   ]
  },
  {
   "cell_type": "code",
   "execution_count": 9,
   "id": "4834abd9",
   "metadata": {},
   "outputs": [
    {
     "name": "stdout",
     "output_type": "stream",
     "text": [
      "Conclusion n Since p-value(=0.117877) > alpha(=0.05) We do not reject the null hypothesis H0.\n"
     ]
    }
   ],
   "source": [
    "if one_tailed_p_value<=alpha:\n",
    "\n",
    "    print('Conclusion','n','Since p-value(=%f)'%p_value,'<','alpha(=%.2f)' %alpha ,'''We reject the null hypothesis H0. \n",
    "\n",
    "So we conclude that there is no significant mean difference in systolic blood pressure. \n",
    "\n",
    "i.e., μ = 165 at %.2f level of significance''' %alpha)\n",
    "\n",
    "else:\n",
    "\n",
    "    print('Conclusion','n','Since p-value(=%f)'%one_tailed_p_value,'>','alpha(=%.2f)'%alpha,\n",
    "           '''We do not reject the null hypothesis H0.''' )"
   ]
  },
  {
   "cell_type": "markdown",
   "id": "c07e3fc3",
   "metadata": {},
   "source": [
    "## QUE2"
   ]
  },
  {
   "cell_type": "code",
   "execution_count": 10,
   "id": "f76afb4c",
   "metadata": {},
   "outputs": [],
   "source": [
    "Ammonium_chloride=[13.4,10.9,11.2,11.8,14,15.3,14.2,12.6,17,16.2,16.5,15.7]\n",
    "Urea=[12,11.7,10.7,11.2,14.8,14.4,13.9,13.7,16.9,16,15.6,16]"
   ]
  },
  {
   "cell_type": "code",
   "execution_count": 11,
   "id": "eab5325a",
   "metadata": {},
   "outputs": [],
   "source": [
    "from scipy import stats"
   ]
  },
  {
   "cell_type": "code",
   "execution_count": 12,
   "id": "36f4385c",
   "metadata": {},
   "outputs": [],
   "source": [
    "t_value,p_value=stats.ttest_ind(Ammonium_chloride,Urea)"
   ]
  },
  {
   "cell_type": "code",
   "execution_count": 13,
   "id": "a4f27e90",
   "metadata": {},
   "outputs": [
    {
     "name": "stdout",
     "output_type": "stream",
     "text": [
      "Test statistic is 0.184650\n",
      "p-value for two tailed test is 0.855195\n"
     ]
    }
   ],
   "source": [
    "print('Test statistic is %f'%float(\"{:.6f}\".format(t_value)))\n",
    "print('p-value for two tailed test is %f'%p_value)"
   ]
  },
  {
   "cell_type": "code",
   "execution_count": 14,
   "id": "c7843b9d",
   "metadata": {},
   "outputs": [],
   "source": [
    "alpha = 0.05"
   ]
  },
  {
   "cell_type": "code",
   "execution_count": 15,
   "id": "20cf87bf",
   "metadata": {},
   "outputs": [
    {
     "name": "stdout",
     "output_type": "stream",
     "text": [
      "Conclusion n Since p-value(=0.855195) > alpha(=0.05) We do not reject the null hypothesis H0.\n"
     ]
    }
   ],
   "source": [
    "if p_value<=alpha:\n",
    "\n",
    "    print('Conclusion','n','Since p-value(=%f)'%p_value,'<','alpha(=%.2f)'%alpha,'''We reject the null hypothesis H0. So we conclude that the \n",
    "\n",
    "effect of ammonium chloride and urea on grain yield of paddy are not equal i.e., μ1 = μ2 at %.2f level of significance.'''%alpha)\n",
    "\n",
    "else:\n",
    "\n",
    "    print('Conclusion','n','Since p-value(=%f)'%p_value,'>','alpha(=%.2f)'%alpha,'''We do not reject the null hypothesis H0.''')"
   ]
  },
  {
   "cell_type": "markdown",
   "id": "0c578a14",
   "metadata": {},
   "source": [
    "# QUE3"
   ]
  },
  {
   "cell_type": "code",
   "execution_count": 16,
   "id": "08437c37",
   "metadata": {},
   "outputs": [],
   "source": [
    "alpha = 0.05\n",
    "first_test =[23, 20, 19, 21, 18, 20, 18, 17, 23, 16, 19]\n",
    "second_test=[24, 19, 22, 18, 20, 22, 20, 20, 23, 20, 18]"
   ]
  },
  {
   "cell_type": "code",
   "execution_count": 17,
   "id": "53d17876",
   "metadata": {},
   "outputs": [],
   "source": [
    "from scipy import stats"
   ]
  },
  {
   "cell_type": "code",
   "execution_count": 18,
   "id": "aed4f502",
   "metadata": {},
   "outputs": [],
   "source": [
    "t_value,p_value=stats.ttest_rel(first_test,second_test)"
   ]
  },
  {
   "cell_type": "code",
   "execution_count": 19,
   "id": "02f32622",
   "metadata": {},
   "outputs": [],
   "source": [
    "one_tailed_p_value=float(\"{:.6f}\".format(p_value/2))"
   ]
  },
  {
   "cell_type": "code",
   "execution_count": 20,
   "id": "46c07ebf",
   "metadata": {},
   "outputs": [
    {
     "name": "stdout",
     "output_type": "stream",
     "text": [
      "Test statistic is -1.707331\n",
      "p-value for one_tailed_test is 0.059282\n"
     ]
    }
   ],
   "source": [
    "print('Test statistic is %f'%float(\"{:.6f}\".format(t_value)))\n",
    "print('p-value for one_tailed_test is %f'%one_tailed_p_value)"
   ]
  },
  {
   "cell_type": "code",
   "execution_count": 21,
   "id": "af7b73eb",
   "metadata": {},
   "outputs": [],
   "source": [
    "alpha = 0.05"
   ]
  },
  {
   "cell_type": "code",
   "execution_count": 22,
   "id": "29c10894",
   "metadata": {},
   "outputs": [
    {
     "name": "stdout",
     "output_type": "stream",
     "text": [
      "Conclusion n Since p-value(=0.059282) > alpha(=0.05) We do not reject the null hypothesis H0. \n",
      "\n",
      "So we conclude that the students have not benefited by the tuition class. \n",
      " i.e., d = 0 at 0.05 level of significance.\n"
     ]
    }
   ],
   "source": [
    "if one_tailed_p_value<=alpha:\n",
    "\n",
    "    print('Conclusion','n','Since p-value(=%f)'%one_tailed_p_value,'<','alpha(=%.2f)'%alpha,'''We reject the null hypothesis H0. \n",
    "\n",
    "So we conclude that the students have benefited by the tuition class. i.e., d = 0 at %.2f level of significance.'''%alpha)\n",
    "\n",
    "else:\n",
    "\n",
    "    print('Conclusion','n','Since p-value(=%f)'%one_tailed_p_value,'>','alpha(=%.2f)'%alpha,'''We do not reject the null hypothesis H0. \n",
    "\n",
    "So we conclude that the students have not benefited by the tuition class. \\n i.e., d = 0 at %.2f level of significance.'''%alpha)"
   ]
  }
 ],
 "metadata": {
  "kernelspec": {
   "display_name": "Python 3",
   "language": "python",
   "name": "python3"
  },
  "language_info": {
   "codemirror_mode": {
    "name": "ipython",
    "version": 3
   },
   "file_extension": ".py",
   "mimetype": "text/x-python",
   "name": "python",
   "nbconvert_exporter": "python",
   "pygments_lexer": "ipython3",
   "version": "3.8.8"
  }
 },
 "nbformat": 4,
 "nbformat_minor": 5
}
